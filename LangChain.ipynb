{
 "cells": [
  {
   "cell_type": "code",
   "execution_count": 3,
   "id": "ed781503",
   "metadata": {},
   "outputs": [],
   "source": [
    "from dotenv import load_dotenv\n",
    "import os\n",
    "load_dotenv()\n",
    "\n",
    "from langchain.llms import OpenAI"
   ]
  },
  {
   "cell_type": "code",
   "execution_count": 2,
   "id": "94307897",
   "metadata": {},
   "outputs": [],
   "source": [
    "llm = OpenAI(temperature=0.9)"
   ]
  },
  {
   "cell_type": "code",
   "execution_count": 3,
   "id": "720385cf",
   "metadata": {},
   "outputs": [
    {
     "name": "stdout",
     "output_type": "stream",
     "text": [
      "\n",
      "\n",
      "Sox Splash.\n"
     ]
    }
   ],
   "source": [
    "text = \"What would be a good company name for a company that makes colorful socks?\"\n",
    "print(llm(text))"
   ]
  },
  {
   "cell_type": "code",
   "execution_count": 4,
   "id": "28480219",
   "metadata": {},
   "outputs": [],
   "source": [
    "from langchain.prompts import PromptTemplate\n",
    "\n",
    "prompt = PromptTemplate(\n",
    "    input_variables=[\"product\"],\n",
    "    template=\"What is a good name for a company that makes {product}?\",\n",
    ")"
   ]
  },
  {
   "cell_type": "code",
   "execution_count": 5,
   "id": "3fb2b54f",
   "metadata": {},
   "outputs": [
    {
     "name": "stdout",
     "output_type": "stream",
     "text": [
      "What is a good name for a company that makes colorful socks?\n"
     ]
    }
   ],
   "source": [
    "print(prompt.format(product=\"colorful socks\"))"
   ]
  },
  {
   "cell_type": "code",
   "execution_count": 6,
   "id": "f0098549",
   "metadata": {},
   "outputs": [],
   "source": [
    "from langchain.prompts import PromptTemplate\n",
    "from langchain.llms import OpenAI\n",
    "\n",
    "llm = OpenAI(temperature=0.9)\n",
    "prompt = PromptTemplate(\n",
    "    input_variables=[\"product\"],\n",
    "    template=\"What is a good name for a company that makes {product}?\",\n",
    ")"
   ]
  },
  {
   "cell_type": "code",
   "execution_count": 7,
   "id": "690628e0",
   "metadata": {},
   "outputs": [],
   "source": [
    "from langchain.chains import LLMChain\n",
    "chain = LLMChain(llm=llm, prompt=prompt)"
   ]
  },
  {
   "cell_type": "code",
   "execution_count": 8,
   "id": "cd134fd4",
   "metadata": {},
   "outputs": [
    {
     "data": {
      "text/plain": [
       "'\\n\\nSocktastic!'"
      ]
     },
     "execution_count": 8,
     "metadata": {},
     "output_type": "execute_result"
    }
   ],
   "source": [
    "chain.run(\"colorful socks\")\n"
   ]
  },
  {
   "cell_type": "code",
   "execution_count": 1,
   "id": "474d8296",
   "metadata": {},
   "outputs": [],
   "source": [
    "from dotenv import load_dotenv\n",
    "import os\n",
    "load_dotenv()\n",
    "from langchain.document_loaders import TextLoader\n",
    "loader = TextLoader('/home/melih/Downloads/Introduction to User Research_Course_Book.txt')"
   ]
  },
  {
   "cell_type": "code",
   "execution_count": 3,
   "id": "18bd77a8",
   "metadata": {},
   "outputs": [],
   "source": [
    "from langchain.indexes import VectorstoreIndexCreator\n",
    "index = VectorstoreIndexCreator().from_loaders([loader])"
   ]
  },
  {
   "cell_type": "code",
   "execution_count": 6,
   "id": "ee605512",
   "metadata": {},
   "outputs": [
    {
     "data": {
      "text/plain": [
       "' A semantic differential (also called a polarity profile) is a type of question format that consists of several terms of opposite polarity within a group of characteristics that are compared in pairs. The answer options need to be converted to numbers (e.g., “very bad” = 1, “bad” = 2, etc.). For example, a question might be: How would you rate the quality of the product? Answer options could be: 1 (very bad), 2 (bad), 3 (neutral), 4 (good), 5 (very good).'"
      ]
     },
     "execution_count": 6,
     "metadata": {},
     "output_type": "execute_result"
    }
   ],
   "source": []
  },
  {
   "cell_type": "code",
   "execution_count": 7,
   "id": "bdbac109",
   "metadata": {},
   "outputs": [
    {
     "data": {
      "text/plain": [
       "' The slides should contain the objective (research question), methodology, answer to the research question, new findings, and recommendations for the next steps. The advantage of this method is that it saves readers time and they are more willing to read the report. The disadvantage is that it does not provide as much detail as a detailed report.'"
      ]
     },
     "execution_count": 7,
     "metadata": {},
     "output_type": "execute_result"
    }
   ],
   "source": []
  },
  {
   "cell_type": "code",
   "execution_count": 8,
   "id": "ea97e766",
   "metadata": {},
   "outputs": [],
   "source": [
    "query = \"\"\"\n",
    "Which of the following Service Design tasks is used for thinking about strategy?\n",
    "\n",
    "A) Focus group\n",
    "B) Brainstorming\n",
    "C) Mock-up\n",
    "D) Affinity diagramy\n",
    "\"\"\""
   ]
  },
  {
   "cell_type": "code",
   "execution_count": 9,
   "id": "93f27f14",
   "metadata": {},
   "outputs": [
    {
     "data": {
      "text/plain": [
       "' D) Affinity diagram'"
      ]
     },
     "execution_count": 9,
     "metadata": {},
     "output_type": "execute_result"
    }
   ],
   "source": [
    "index.query(query)"
   ]
  },
  {
   "cell_type": "code",
   "execution_count": 10,
   "id": "6a286c99",
   "metadata": {},
   "outputs": [
    {
     "data": {
      "text/plain": [
       "' Yes, the types of user needs are informational, enjoyment, and environmental. An example of an informational need is when a traveler needs to know the opening times of a rental car pick-up location in order to make a decision or take an action. An example of an enjoyment need is when a product provides a pleasant experience, such as being appealing, challenging, or satisfying. An example of an environmental need is when a system, product, or service is used in a physical or social environment.'"
      ]
     },
     "execution_count": 10,
     "metadata": {},
     "output_type": "execute_result"
    }
   ],
   "source": [
    "query = \"Could you explain the types of user needs and give an example for each of them?\"\n",
    "index.query(query)"
   ]
  },
  {
   "cell_type": "code",
   "execution_count": 5,
   "id": "95ce560e",
   "metadata": {},
   "outputs": [
    {
     "data": {
      "text/plain": [
       "\" i don't know.\""
      ]
     },
     "execution_count": 5,
     "metadata": {},
     "output_type": "execute_result"
    }
   ],
   "source": [
    "query = \"\"\"\n",
    "What is my name?\n",
    "\"\"\"\n",
    "index.query(query).lower()"
   ]
  },
  {
   "cell_type": "code",
   "execution_count": null,
   "id": "bd4be0f1",
   "metadata": {},
   "outputs": [],
   "source": []
  }
 ],
 "metadata": {
  "kernelspec": {
   "display_name": "synthdata",
   "language": "python",
   "name": "synthdata"
  },
  "language_info": {
   "codemirror_mode": {
    "name": "ipython",
    "version": 3
   },
   "file_extension": ".py",
   "mimetype": "text/x-python",
   "name": "python",
   "nbconvert_exporter": "python",
   "pygments_lexer": "ipython3",
   "version": "3.9.16"
  }
 },
 "nbformat": 4,
 "nbformat_minor": 5
}
