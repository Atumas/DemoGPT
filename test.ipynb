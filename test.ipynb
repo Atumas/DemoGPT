{
 "cells": [
  {
   "cell_type": "code",
   "execution_count": 3,
   "metadata": {},
   "outputs": [],
   "source": [
    "from demogpt_agenthub.agents import ToolCallingAgent\n",
    "from demogpt_agenthub.llms import OpenAIChatModel\n",
    "from demogpt_agenthub.tools import DuckDuckGoSearchTool, WeatherTool\n",
    "search_tool = DuckDuckGoSearchTool()\n",
    "weather_tool = WeatherTool()\n",
    "llm = OpenAIChatModel(model_name=\"gpt-4o-mini\")\n",
    "agent = ToolCallingAgent(tools=[search_tool, weather_tool], llm=llm, verbose=True)"
   ]
  },
  {
   "cell_type": "code",
   "execution_count": 4,
   "metadata": {},
   "outputs": [
    {
     "name": "stdout",
     "output_type": "stream",
     "text": [
      "Reasoning:\n",
      "\u001b[94mTo get the current weather information for Tokyo, the best tool to use is the OpenWeatherMap API, which is specifically designed for fetching weather data.\u001b[0m\n",
      "Tool call:\n",
      "\u001b[93mopen_weather_map\u001b[0m\n",
      "Tool result:\n",
      "\u001b[92mIn Tokyo, the current weather is as follows:\n",
      "Detailed status: heavy intensity rain\n",
      "Wind speed: 5.66 m/s, direction: 200°\n",
      "Humidity: 59%\n",
      "Temperature: \n",
      "  - Current: 18.13°C\n",
      "  - High: 18.69°C\n",
      "  - Low: 15.37°C\n",
      "  - Feels like: 17.54°C\n",
      "Rain: {'1h': 4.21}\n",
      "Heat index: None\n",
      "Cloud cover: 0%\u001b[0m\n",
      "Answer:\n",
      "\u001b[92mThe current weather in Tokyo is characterized by heavy intensity rain. Here are the details:\n",
      "\n",
      "- **Temperature**: \n",
      "  - Current: 18.13°C\n",
      "  - High: 18.69°C\n",
      "  - Low: 15.37°C\n",
      "  - Feels like: 17.54°C\n",
      "- **Wind Speed**: 5.66 m/s, coming from the southwest (200°)\n",
      "- **Humidity**: 59%\n",
      "- **Rainfall**: 4.21 mm in the last hour\n",
      "- **Cloud Cover**: 0%\n",
      "\n",
      "Please let me know if you need more information!\u001b[0m\n"
     ]
    },
    {
     "data": {
      "text/plain": [
       "'The current weather in Tokyo is characterized by heavy intensity rain. Here are the details:\\n\\n- **Temperature**: \\n  - Current: 18.13°C\\n  - High: 18.69°C\\n  - Low: 15.37°C\\n  - Feels like: 17.54°C\\n- **Wind Speed**: 5.66 m/s, coming from the southwest (200°)\\n- **Humidity**: 59%\\n- **Rainfall**: 4.21 mm in the last hour\\n- **Cloud Cover**: 0%\\n\\nPlease let me know if you need more information!'"
      ]
     },
     "execution_count": 4,
     "metadata": {},
     "output_type": "execute_result"
    }
   ],
   "source": [
    "agent.run(\"What is the weather in Tokyo?\")"
   ]
  },
  {
   "cell_type": "code",
   "execution_count": 5,
   "metadata": {},
   "outputs": [
    {
     "name": "stdout",
     "output_type": "stream",
     "text": [
      "Reasoning:\n",
      "\u001b[94mTo calculate 34 to the power of 26, I should use MyPowerTool, which is designed for calculating powers of numbers.\u001b[0m\n",
      "Tool call:\n",
      "\u001b[93mMyPowerTool\u001b[0m\n",
      "Tool result:\n",
      "\u001b[92m6583424253569334549714045134721532297216\u001b[0m\n",
      "Answer:\n",
      "\u001b[92mThe result of 34 to the power of 26 is 6,583,424,253,569,334,549,714,045,134,721,532,297,216.\u001b[0m\n"
     ]
    },
    {
     "data": {
      "text/plain": [
       "'The result of 34 to the power of 26 is 6,583,424,253,569,334,549,714,045,134,721,532,297,216.'"
      ]
     },
     "execution_count": 5,
     "metadata": {},
     "output_type": "execute_result"
    }
   ],
   "source": [
    "from demogpt_agenthub.tools import BaseTool\n",
    "class MyPowerTool(BaseTool):\n",
    "    def __init__(self):\n",
    "        self.name = \"MyPowerTool\"\n",
    "        self.description = \"This tool is used to calculate the power of a number\"\n",
    "        super().__init__()\n",
    "    def run(self, a: int, b: int):\n",
    "        # Implement your tool's functionality here\n",
    "        return a**b\n",
    "\n",
    "power_tool = MyPowerTool()\n",
    "agent = ToolCallingAgent(tools=[search_tool, weather_tool, power_tool], llm=llm, verbose=True)\n",
    "agent.run(\"What is the 34 to the power of 26?\")"
   ]
  },
  {
   "cell_type": "code",
   "execution_count": 6,
   "metadata": {},
   "outputs": [
    {
     "data": {
      "text/plain": [
       "'Here are some videos about the 2024 presidential election:\\n\\n1. [Video 1](https://www.youtube.com/watch?v=HYE20qmGIbg&pp=ygUaMjAyNCBwcmVzaWRlbnRpYWwgZWxlY3Rpb24%3D)\\n2. [Video 2](https://www.youtube.com/watch?v=eFCiva4m3Zk&pp=ygUaMjAyNCBwcmVzaWRlbnRpYWwgZWxlY3Rpb24%3D)\\n\\nFeel free to check them out!'"
      ]
     },
     "execution_count": 6,
     "metadata": {},
     "output_type": "execute_result"
    }
   ],
   "source": [
    "from demogpt_agenthub.tools.youtube import YouTubeSearchTool\n",
    "youtube_tool = YouTubeSearchTool()\n",
    "agent = ToolCallingAgent(tools=[youtube_tool], llm=llm, verbose=False)\n",
    "agent.run(\"List the videos about the 2024 presidential election\")"
   ]
  },
  {
   "cell_type": "code",
   "execution_count": 7,
   "metadata": {},
   "outputs": [
    {
     "name": "stdout",
     "output_type": "stream",
     "text": [
      "Decision:\n",
      "\u001b[95mFalse\u001b[0m\n",
      "Reasoning:\n",
      "\u001b[94mTo find the temperature's square root in the country where Christiano Ronaldo is currently playing, I first need to locate his current club. Then, I will retrieve the current temperature in that location using the OpenWeatherMap API. After getting the temperature, I will use the Python Interpreter to calculate the square root precisely.\u001b[0m\n",
      "Tool call:\n",
      "\u001b[93mduckduckgo_search\u001b[0m\n",
      "Tool args:\n",
      "\u001b[93m{'inp': 'current club of Christiano Ronaldo'}\u001b[0m\n",
      "Tool result:\n",
      "\u001b[92mCristiano Ronaldo's current club and details surrounding his future in professional football. ... Cristiano Ronaldo: Club career, history. At 16 years old, Ronaldo's talent was spotted in Sporting ... Cristiano Ronaldo has reportedly rejected the chance to leave Al-Nassr and feature at the inaugural Club World Cup this summer. Article continues under the video The Portugal legend has been heavily linked with an Al-Nassr exit in recent months, with his current contract due to expire in July, and a move to a club playing in the 2025 Club World ... Since joining the club, Ronaldo has scored 80 goals in 89 appearances across all competitions (as of December 23, 2024). He has also secured one trophy with Al Nassr, winning the Arab Club ... Cristiano will join current Real Madrid star Kylian Mbappe as a part-owner of a club, though the current Merengues star is under fire with French Ligue 2 side Caen, whose fans believe he is using the team as a plaything. Ronaldo is unlikely to have such concerns when he reaffirms his commitment to Al-Nassr with a new one-year deal. **Al Hilal** has its sights set on **Cristiano Ronaldo** as its star signing to lead the team in the **2025 Club World Cup**. The Saudi team, which already boasts renowned figures in its squad, is ...\u001b[0m\n",
      "Decision:\n",
      "\u001b[95mFalse\u001b[0m\n",
      "Reasoning:\n",
      "\u001b[94mFirst, I need to determine the current club of Cristiano Ronaldo, which is Al-Nassr in Saudi Arabia. Then, I need to fetch the current temperature in Saudi Arabia using the OpenWeatherMap API. After obtaining the temperature, I will calculate its square root using the Python Interpreter for precise results.\u001b[0m\n",
      "Tool call:\n",
      "\u001b[93mopen_weather_map\u001b[0m\n",
      "Tool args:\n",
      "\u001b[93m{'city': 'Riyadh,SA'}\u001b[0m\n",
      "Tool result:\n",
      "\u001b[92mIn Riyadh,SA, the current weather is as follows:\n",
      "Detailed status: overcast clouds\n",
      "Wind speed: 5.41 m/s, direction: 356°\n",
      "Humidity: 17%\n",
      "Temperature: \n",
      "  - Current: 29.68°C\n",
      "  - High: 29.68°C\n",
      "  - Low: 29.68°C\n",
      "  - Feels like: 27.92°C\n",
      "Rain: {}\n",
      "Heat index: None\n",
      "Cloud cover: 99%\u001b[0m\n",
      "Decision:\n",
      "\u001b[95mFalse\u001b[0m\n",
      "Reasoning:\n",
      "\u001b[94mI have located the current temperature in Saudi Arabia where Cristiano Ronaldo is playing for Al-Nassr as 29.68°C. To find the square root of this temperature, I will use the Python Interpreter to perform the calculation precisely.\u001b[0m\n",
      "Tool call:\n",
      "\u001b[93mPython Interpreter\u001b[0m\n",
      "Tool args:\n",
      "\u001b[93m{'code': 'import math\\nresult = math.sqrt(29.68)\\nprint(result)'}\u001b[0m\n",
      "Tool result:\n",
      "\u001b[92m5.447935388750494\n",
      "\u001b[0m\n",
      "Decision:\n",
      "\u001b[95mTrue\u001b[0m\n",
      "Answer:\n",
      "\u001b[92mThe square root of the current temperature (29.68°C) in Saudi Arabia, where Cristiano Ronaldo is playing for Al-Nassr, is approximately 5.45.\u001b[0m\n",
      "The square root of the current temperature (29.68°C) in Saudi Arabia, where Cristiano Ronaldo is playing for Al-Nassr, is approximately 5.45.\n"
     ]
    }
   ],
   "source": [
    "from demogpt_agenthub.tools import DuckDuckGoSearchTool, WeatherTool, PythonTool\n",
    "from demogpt_agenthub.llms import OpenAIChatModel\n",
    "from demogpt_agenthub.agents import ReactAgent\n",
    "search_tool = DuckDuckGoSearchTool()\n",
    "weather_tool = WeatherTool()\n",
    "python_tool = PythonTool()\n",
    "agent = ReactAgent(tools=[search_tool, weather_tool, python_tool], llm=OpenAIChatModel(model_name=\"gpt-4o-mini\"), verbose=True)\n",
    "query = \"What is the weather's temperature's square root in the country where Christiano Ronaldo is currently playing? Please precisely calculate the result.\"\n",
    "print(agent.run(query))"
   ]
  },
  {
   "cell_type": "code",
   "execution_count": null,
   "metadata": {},
   "outputs": [],
   "source": []
  }
 ],
 "metadata": {
  "kernelspec": {
   "display_name": "spon",
   "language": "python",
   "name": "python3"
  },
  "language_info": {
   "codemirror_mode": {
    "name": "ipython",
    "version": 3
   },
   "file_extension": ".py",
   "mimetype": "text/x-python",
   "name": "python",
   "nbconvert_exporter": "python",
   "pygments_lexer": "ipython3",
   "version": "3.11.11"
  }
 },
 "nbformat": 4,
 "nbformat_minor": 2
}
